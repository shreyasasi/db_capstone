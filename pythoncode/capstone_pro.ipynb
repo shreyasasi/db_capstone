{
 "cells": [
  {
   "cell_type": "code",
   "execution_count": 22,
   "id": "5fba00cd-4dd3-42dd-ad93-2b047c8c479c",
   "metadata": {},
   "outputs": [],
   "source": [
    "# Import MySQL Connector/Python \n",
    "import mysql.connector as connector\n",
    "\n",
    "connection=connector.connect(user=\"root\", password=\"Password123@\")"
   ]
  },
  {
   "cell_type": "code",
   "execution_count": 31,
   "id": "8a096820-0ca2-436f-86d9-4a540179afa3",
   "metadata": {},
   "outputs": [],
   "source": [
    "cursor = connection.cursor()\n",
    "db=\"\"\" USE `db-capstone-project.`;\"\"\"\n",
    "cursor.execute(db)\n"
   ]
  },
  {
   "cell_type": "code",
   "execution_count": 36,
   "id": "437c3e02-8148-4e20-830c-57100de47fef",
   "metadata": {},
   "outputs": [
    {
     "name": "stdout",
     "output_type": "stream",
     "text": [
      "('address',)\n",
      "('booking',)\n",
      "('customer',)\n",
      "('delivery_status',)\n",
      "('menu',)\n",
      "('menu_category',)\n",
      "('orders',)\n",
      "('ordersview',)\n",
      "('staff',)\n"
     ]
    }
   ],
   "source": [
    "tab=\"\"\"show tables;\"\"\"\n",
    "cursor.execute(tab) \n",
    "result=cursor.fetchall()\n",
    "for x in result: \n",
    "    print(x) "
   ]
  },
  {
   "cell_type": "code",
   "execution_count": 30,
   "id": "7c8eb0bc-afeb-4c90-b739-248011dd36ec",
   "metadata": {},
   "outputs": [
    {
     "name": "stdout",
     "output_type": "stream",
     "text": [
      "('Fullname', 'phone', 'street', 'city', 'state', 'zipcode')\n",
      "('sasi k', 987465321, '18 joyner ct', 'trenton', 'NJ', 8648)\n"
     ]
    }
   ],
   "source": [
    "task3= \"\"\"SELECT CONCAT(c.first_name, \" \", c.last_name) AS Fullname, \n",
    "       c.phone, \n",
    "       a.street,\n",
    "       a.city,\n",
    "       a.state,\n",
    "       a.zipcode\n",
    "FROM address AS a \n",
    "JOIN customer AS c ON a.idAddress = c.addressid \n",
    "JOIN orders AS o ON c.customerid = o.customerid\n",
    "GROUP BY Fullname, c.phone, a.street, a.city, a.state, a.zipcode\n",
    "HAVING SUM(o.TotalCost) > 60;\n",
    "\"\"\"\n",
    "cursor.execute(task3)\n",
    "result=cursor.fetchall()\n",
    "col=cursor.column_names\n",
    "print(col)\n",
    "for x in result: \n",
    "    print(x) "
   ]
  },
  {
   "cell_type": "code",
   "execution_count": null,
   "id": "6d555e44-1b43-445a-91d1-2e8d6543a076",
   "metadata": {},
   "outputs": [],
   "source": []
  }
 ],
 "metadata": {
  "kernelspec": {
   "display_name": "Python 3 (ipykernel)",
   "language": "python",
   "name": "python3"
  },
  "language_info": {
   "codemirror_mode": {
    "name": "ipython",
    "version": 3
   },
   "file_extension": ".py",
   "mimetype": "text/x-python",
   "name": "python",
   "nbconvert_exporter": "python",
   "pygments_lexer": "ipython3",
   "version": "3.12.3"
  }
 },
 "nbformat": 4,
 "nbformat_minor": 5
}
